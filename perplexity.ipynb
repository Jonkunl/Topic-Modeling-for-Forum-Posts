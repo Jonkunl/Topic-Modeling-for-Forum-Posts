{
 "cells": [
  {
   "cell_type": "markdown",
   "metadata": {},
   "source": [
    "## Instruction\n",
    "\n",
    "The perplexity calculation made use of probability matrix produced by using the <a href=https://github.com/qiang2100/STTM#sttm-a-library-of-short-text-topic-modeling>STTM java package</a>\n",
    "\n",
    "<b>corpus_path</b> refers to the files after all the neccessary pre-process. example format provided in the data file\n",
    "\n",
    "<b>voc_path</b> is the vocabulary list produced by STTM java package.\n",
    "\n",
    "<b>phi_path</b> is the topic-words probabilistic distribution produced by STTM java package (file ending with .phi).\n",
    "\n",
    "<b>theta_path</b> is the document-topics probabilistic distribution produced by STTM java package (file ending with .theta).\n",
    "\n",
    "examples are provided in the data file.\n",
    "\n",
    "note that the distribution flutuates in different runs, it is recommended to run the same test several times, taking out the outliers and average the rest."
   ]
  },
  {
   "cell_type": "code",
   "execution_count": 1,
   "metadata": {},
   "outputs": [],
   "source": [
    "import math"
   ]
  },
  {
   "cell_type": "code",
   "execution_count": null,
   "metadata": {},
   "outputs": [],
   "source": [
    "#make neccessary change here\n",
    "\n",
    "corpus_path = '../STTM-master/dataset/corpus.txt'\n",
    "voc_path = '../STTM-master/results/lda.vocabulary'\n",
    "phi_path = '../STTM-master/results/lda.phi'\n",
    "theta_path = '../STTM-master/results/lda.theta'"
   ]
  },
  {
   "cell_type": "code",
   "execution_count": 2,
   "metadata": {},
   "outputs": [],
   "source": [
    "corpus = []\n",
    "with open(corpus_path) as cp:\n",
    "    for line in cp.readlines():\n",
    "        corpus.append(line.strip('\\n').split(\" \"))"
   ]
  },
  {
   "cell_type": "code",
   "execution_count": 12,
   "metadata": {},
   "outputs": [],
   "source": [
    "def perplexity(topic_num):\n",
    "    prob_sum = 0\n",
    "    word_sum = 0\n",
    "    \n",
    "    vocabulary = {}\n",
    "    with open(voc_path) as vocab:\n",
    "        for line in vocab.readlines():\n",
    "            foo = line.strip('\\n').split(\" \")\n",
    "            vocabulary[foo[0]] = int(foo[1])\n",
    "    \n",
    "    #topic-word\n",
    "    phi_z = []\n",
    "    with open(phi_path) as phi:\n",
    "        for line in phi.readlines():\n",
    "            phi_z.append(line.strip('\\n').split(\" \"))\n",
    "    \n",
    "    # doc-topic\n",
    "    theta_z = []\n",
    "    with open(theta_path) as theta:\n",
    "        for line in theta.readlines():\n",
    "            theta_z.append(line.strip('\\n').split(\" \"))\n",
    "    \n",
    "    for i in range(len(corpus)):\n",
    "        for j in range(topic_num):\n",
    "            for k in corpus[j]:\n",
    "                if k:\n",
    "                    v_id = vocabulary[k]\n",
    "                    prob_sum += float(theta_z[i][j]) * float(phi_z[j][v_id])\n",
    "        word_sum += len(corpus[i])\n",
    "    \n",
    "    result = math.exp(-math.log(prob_sum/word_sum))\n",
    "    print(result)"
   ]
  },
  {
   "cell_type": "code",
   "execution_count": 199,
   "metadata": {},
   "outputs": [
    {
     "name": "stdout",
     "output_type": "stream",
     "text": [
      "633.1215094805176\n"
     ]
    }
   ],
   "source": [
    "#30lda\n",
    "perplexity(30)"
   ]
  },
  {
   "cell_type": "code",
   "execution_count": 201,
   "metadata": {},
   "outputs": [
    {
     "name": "stdout",
     "output_type": "stream",
     "text": [
      "641.5300882227692\n"
     ]
    }
   ],
   "source": [
    "#40lda\n",
    "perplexity(40)"
   ]
  },
  {
   "cell_type": "code",
   "execution_count": 130,
   "metadata": {},
   "outputs": [
    {
     "name": "stdout",
     "output_type": "stream",
     "text": [
      "699.5496335734374\n"
     ]
    }
   ],
   "source": [
    "#50lda\n",
    "perplexity(50)"
   ]
  }
 ],
 "metadata": {
  "kernelspec": {
   "display_name": "Python 3",
   "language": "python",
   "name": "python3"
  },
  "language_info": {
   "codemirror_mode": {
    "name": "ipython",
    "version": 3
   },
   "file_extension": ".py",
   "mimetype": "text/x-python",
   "name": "python",
   "nbconvert_exporter": "python",
   "pygments_lexer": "ipython3",
   "version": "3.7.0"
  }
 },
 "nbformat": 4,
 "nbformat_minor": 2
}
