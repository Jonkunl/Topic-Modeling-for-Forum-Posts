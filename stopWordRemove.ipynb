{
 "cells": [
  {
   "cell_type": "markdown",
   "metadata": {},
   "source": [
    "## Instruction\n",
    "\n",
    "<b>corpus_path</b> is the collection of documents produced from the Chinese segmentation process.\n",
    "\n",
    "<b>stop_words_path</b> in this project, is the chinese stop words set.\n",
    "\n",
    "<b>output_path</b> output of file with stop words removed."
   ]
  },
  {
   "cell_type": "code",
   "execution_count": 38,
   "metadata": {},
   "outputs": [],
   "source": [
    "#make neccessary change here\n",
    "\n",
    "corpus_path = '../ourstep_final.txt'\n",
    "stop_words_path = '../stopwords_zh.txt'\n",
    "output_path = '../processed_ourstep.txt'"
   ]
  },
  {
   "cell_type": "code",
   "execution_count": 39,
   "metadata": {},
   "outputs": [],
   "source": [
    "corpus = []\n",
    "with open(corpus_path, 'r') as unprocessed:\n",
    "    for line in unprocessed.readlines():\n",
    "        doc = []\n",
    "        for tok in line.split(\" \"):\n",
    "            doc.append(tok.strip('\\n'))\n",
    "        corpus.append(doc)"
   ]
  },
  {
   "cell_type": "code",
   "execution_count": 40,
   "metadata": {},
   "outputs": [],
   "source": [
    "stop_words_zh = []\n",
    "with open(stop_words_path, 'r') as zh_stopwords:\n",
    "    for line in zh_stopwords.readlines():\n",
    "        stop_words_zh.append(line.strip('\\n'))"
   ]
  },
  {
   "cell_type": "code",
   "execution_count": 41,
   "metadata": {},
   "outputs": [],
   "source": [
    "r_corpus = []\n",
    "for doc in corpus:\n",
    "    new_doc = []\n",
    "    for tok in doc:\n",
    "        if tok not in stop_words_zh and tok not in ['\\n', ' ', '']:\n",
    "            new_doc.append(tok)\n",
    "    if len(new_doc) > 0:\n",
    "        r_corpus.append(new_doc)"
   ]
  },
  {
   "cell_type": "code",
   "execution_count": 43,
   "metadata": {},
   "outputs": [],
   "source": [
    "with open(output_path,'w') as final_inp:\n",
    "    for doc in r_corpus:\n",
    "        doc_string = ' '.join(doc) + '\\n'\n",
    "        final_inp.write(doc_string)"
   ]
  },
  {
   "cell_type": "code",
   "execution_count": null,
   "metadata": {},
   "outputs": [],
   "source": []
  }
 ],
 "metadata": {
  "kernelspec": {
   "display_name": "Python 3",
   "language": "python",
   "name": "python3"
  },
  "language_info": {
   "codemirror_mode": {
    "name": "ipython",
    "version": 3
   },
   "file_extension": ".py",
   "mimetype": "text/x-python",
   "name": "python",
   "nbconvert_exporter": "python",
   "pygments_lexer": "ipython3",
   "version": "3.7.0"
  }
 },
 "nbformat": 4,
 "nbformat_minor": 2
}
