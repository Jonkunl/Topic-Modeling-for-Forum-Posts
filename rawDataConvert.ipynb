{
 "cells": [
  {
   "cell_type": "markdown",
   "metadata": {},
   "source": [
    "## Instruction\n",
    "\n",
    "<b>file_path</b> links to the raw data from the MongoDB database\n",
    "\n",
    "<b>json_output_path</b> is the json file path after converting the raw data file to a valid json file\n",
    "\n",
    "<b>output_path</b> output of neccessary info needed, in this case, the title and the description, <b>use 'description' instead of 'text' for the Zhihu dataset </b>"
   ]
  },
  {
   "cell_type": "code",
   "execution_count": 19,
   "metadata": {},
   "outputs": [],
   "source": [
    "import json"
   ]
  },
  {
   "cell_type": "code",
   "execution_count": 31,
   "metadata": {},
   "outputs": [],
   "source": [
    "#make neccessary change here\n",
    "\n",
    "file_path = '../data/Oursteps_Posts.json'\n",
    "json_output_path = '../zz.json'\n",
    "output_path = '../ourstep_full.txt'"
   ]
  },
  {
   "cell_type": "code",
   "execution_count": 21,
   "metadata": {},
   "outputs": [],
   "source": [
    "with open(file_path, 'r') as post:\n",
    "    Oposts = post.readlines()"
   ]
  },
  {
   "cell_type": "code",
   "execution_count": 23,
   "metadata": {},
   "outputs": [],
   "source": [
    "with open(json_output_path, 'w') as json_output:\n",
    "    json_output.write('[')\n",
    "    for line in Oposts[:-1]:\n",
    "        json_output.write(line)\n",
    "        json_output.write(',\n')",
    "        \n",
    "    for line in Oposts[-1:]:\n",
    "        json_output.write(line)\n",
    "    json_output.write(']')"
   ]
  },
  {
   "cell_type": "code",
   "execution_count": 24,
   "metadata": {},
   "outputs": [],
   "source": [
    "with open(json_output_path,'r') as val:\n",
    "    Opostz = json.load(val)"
   ]
  },
  {
   "cell_type": "code",
   "execution_count": 29,
   "metadata": {},
   "outputs": [
    {
     "name": "stdout",
     "output_type": "stream",
     "text": [
      "{'_id': {'$oid': '5cc06e2d579ae9324fcebe0e'}, 'author': 'carl181818', 'post_date': {'$date': {'$numberLong': '1556129516000'}}, 'question_id': '1502923', 'responsed': {'$numberInt': '3'}, 'text': '\\r\\n这个超过了$388.80就免费的net, 是有medicare 就自动生效吗？ 还是要自己去哪个网站注册或去哪个地方申请的？', 'title': 'Medicare Safety Net', 'viewed': {'$numberInt': '111'}}\n",
      "\r\n",
      "这个超过了$388.80就免费的net, 是有medicare 就自动生效吗？ 还是要自己去哪个网站注册或去哪个地方申请的？\n",
      "Medicare Safety Net\n"
     ]
    }
   ],
   "source": [
    "#verifying the data\n",
    "\n",
    "print(Opostz[0])\n",
    "print(Opostz[0]['text'])\n",
    "print(Opostz[0]['title'])"
   ]
  },
  {
   "cell_type": "code",
   "execution_count": 32,
   "metadata": {},
   "outputs": [],
   "source": [
    "with open(output_path,'w') as zhih:\n",
    "    for Posts in Opostz:\n",
    "        full_sent = \"\"\n",
    "        if Posts['title']:\n",
    "            full_sent += Posts['title'].strip('\\r\\n')\n",
    "            if Posts['text']:\n",
    "                full_sent += \" \"\n",
    "                full_sent += Posts['text'].strip('\\r\\n')\n",
    "        zhih.write(full_sent)\n",
    "        zhih.write('\\n')"
   ]
  },
  {
   "cell_type": "code",
   "execution_count": null,
   "metadata": {},
   "outputs": [],
   "source": []
  }
 ],
 "metadata": {
  "kernelspec": {
   "display_name": "Python 3",
   "language": "python",
   "name": "python3"
  },
  "language_info": {
   "codemirror_mode": {
    "name": "ipython",
    "version": 3
   },
   "file_extension": ".py",
   "mimetype": "text/x-python",
   "name": "python",
   "nbconvert_exporter": "python",
   "pygments_lexer": "ipython3",
   "version": "3.7.0"
  }
 },
 "nbformat": 4,
 "nbformat_minor": 2
}
