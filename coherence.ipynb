{
 "cells": [
  {
   "cell_type": "markdown",
   "metadata": {},
   "source": [
    "## Instruction\n",
    "\n",
    "<b>corpus_path</b> refers to the files after all the neccessary pre-process. example format provided in the data file\n",
    "\n",
    "<b>topics_path</b> refers to the files containing top words describing the topics, example format provided in the data file"
   ]
  },
  {
   "cell_type": "code",
   "execution_count": 9,
   "metadata": {},
   "outputs": [],
   "source": [
    "#make neccessary change here\n",
    "\n",
    "corpus_path = '../STTM-master/dataset/corpus.txt'\n",
    "topics_path = '../STTM-master/results/lda30.topWords'"
   ]
  },
  {
   "cell_type": "code",
   "execution_count": 10,
   "metadata": {},
   "outputs": [],
   "source": [
    "corpus = []\n",
    "with open(corpus_path, 'r') as input_text:\n",
    "    for line in input_text.readlines():\n",
    "        corpus.append(line.strip('\\n').split(\" \"))"
   ]
  },
  {
   "cell_type": "code",
   "execution_count": 11,
   "metadata": {},
   "outputs": [],
   "source": [
    "from collections import defaultdict\n",
    "\n",
    "def coh():\n",
    "    topics = []\n",
    "    with open(topics_path, 'r') as topic_list:\n",
    "        for line in topic_list.readlines():\n",
    "            topic = []\n",
    "            for tok in line.strip('\\n').split(' '):\n",
    "                topic.append(tok)\n",
    "            topics.append(topic)\n",
    "\n",
    "    dictionary = defaultdict(list)\n",
    "    vocab = set()\n",
    "\n",
    "    for doc in corpus:\n",
    "        for tok in doc:\n",
    "            vocab.add(tok)\n",
    "\n",
    "    for tok in vocab:\n",
    "        i = 0\n",
    "        for doc in corpus:\n",
    "            if tok in doc:\n",
    "                if i not in dictionary[tok]:\n",
    "                    dictionary[tok].append(i)\n",
    "            i += 1\n",
    "\n",
    "    coh_score = []\n",
    "\n",
    "    for topic in topics:\n",
    "        top_score = 0\n",
    "        for tok in topic:\n",
    "            D_v = len(dictionary[tok])\n",
    "            if D_v == 0:\n",
    "                pass\n",
    "            else:\n",
    "                top_score += doc_count(D_v, tok, topic, dictionary)\n",
    "\n",
    "        coh_score.append(top_score)\n",
    "\n",
    "    avg_coh_score = sum(coh_score)/len(coh_score)\n",
    "\n",
    "    return avg_coh_score"
   ]
  },
  {
   "cell_type": "code",
   "execution_count": 12,
   "metadata": {},
   "outputs": [],
   "source": [
    "import math\n",
    "\n",
    "def tok_tok_count(tok1, tok2, dictionary):\n",
    "    list1 = dictionary[tok1]\n",
    "    list2 = dictionary[tok2]\n",
    "    common = list(set(list1).intersection(list2))\n",
    "    return len(common)\n",
    "\n",
    "\n",
    "def doc_count(D_v, tok1, tok_list, dictionary):\n",
    "    D_uv = 0\n",
    "    for tok2 in tok_list:\n",
    "        if tok2 == tok1:\n",
    "            pass\n",
    "        else:\n",
    "            D_uv += math.log((tok_tok_count(tok1, tok2, dictionary)+1)/D_v)\n",
    "    \n",
    "    return D_uv"
   ]
  },
  {
   "cell_type": "code",
   "execution_count": 13,
   "metadata": {},
   "outputs": [
    {
     "data": {
      "text/plain": [
       "-1059.72738824273"
      ]
     },
     "execution_count": 13,
     "metadata": {},
     "output_type": "execute_result"
    }
   ],
   "source": [
    "#run your test here after neccessary change been made.\n",
    "\n",
    "coh()"
   ]
  },
  {
   "cell_type": "code",
   "execution_count": null,
   "metadata": {},
   "outputs": [],
   "source": []
  }
 ],
 "metadata": {
  "kernelspec": {
   "display_name": "Python 3",
   "language": "python",
   "name": "python3"
  },
  "language_info": {
   "codemirror_mode": {
    "name": "ipython",
    "version": 3
   },
   "file_extension": ".py",
   "mimetype": "text/x-python",
   "name": "python",
   "nbconvert_exporter": "python",
   "pygments_lexer": "ipython3",
   "version": "3.7.0"
  }
 },
 "nbformat": 4,
 "nbformat_minor": 2
}
